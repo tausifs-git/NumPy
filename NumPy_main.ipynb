{
 "cells": [
  {
   "cell_type": "markdown",
   "id": "93f46017",
   "metadata": {},
   "source": [
    "# **NumPy**\n"
   ]
  },
  {
   "cell_type": "markdown",
   "id": "bd067ade",
   "metadata": {},
   "source": [
    "- import numpy\n"
   ]
  },
  {
   "cell_type": "code",
   "execution_count": null,
   "id": "55a063aa",
   "metadata": {},
   "outputs": [],
   "source": [
    "# *** Run This Cell ***\n",
    "\n",
    "import numpy as np"
   ]
  },
  {
   "cell_type": "code",
   "execution_count": null,
   "id": "ed299bda",
   "metadata": {},
   "outputs": [],
   "source": [
    "# Kernel Numpy version\n",
    "print(np.__version__)"
   ]
  },
  {
   "cell_type": "markdown",
   "id": "87f378ac",
   "metadata": {},
   "source": [
    "### numpy array generation & multiplying vector\n"
   ]
  },
  {
   "cell_type": "markdown",
   "id": "8de0aada",
   "metadata": {},
   "source": [
    "##### A General Python List\n"
   ]
  },
  {
   "cell_type": "code",
   "execution_count": null,
   "id": "b0c81c07",
   "metadata": {},
   "outputs": [],
   "source": [
    "# Python List\n",
    "py_list = [1, 2, 3]\n",
    "py_list = py_list * 2\n",
    "\n",
    "print(py_list)\n"
   ]
  },
  {
   "cell_type": "markdown",
   "id": "2cf0aeb7",
   "metadata": {},
   "source": [
    "##### With numpy, you can do vectorized operation like multiply an array.\n"
   ]
  },
  {
   "cell_type": "code",
   "execution_count": null,
   "id": "cc61d9c8",
   "metadata": {},
   "outputs": [],
   "source": [
    "# Numpy List\n",
    "np_list = np.array([1, 2, 3])\n",
    "np_list = np_list * 2\n",
    "\n",
    "print(np_list)\n",
    "print(type(np_list))        # <class 'numpy.ndarray'>\n"
   ]
  },
  {
   "cell_type": "markdown",
   "id": "e2a6dcc9",
   "metadata": {},
   "source": [
    "### Multidimensional Arrays\n"
   ]
  },
  {
   "cell_type": "markdown",
   "id": "306fc387",
   "metadata": {},
   "source": [
    "In NumPy, .shape is an attribute of a ndarray object that returns a tuple representing the dimensions of the array. Each element in the tuple indicates the length of the corresponding dimension.\n",
    "\n",
    "- For a 1-D array, the tuple contains a single element representing the number of elements in the array.\n",
    "- For a 2-D array (matrix), the tuple contains two elements: the first represents the number of rows,\n",
    "  and the second represents the number of columns.\n",
    "- For higher-dimensional arrays, each element in the tuple corresponds to the size of a dimension.\n"
   ]
  },
  {
   "cell_type": "code",
   "execution_count": null,
   "id": "0193db41",
   "metadata": {},
   "outputs": [],
   "source": [
    "# .ndim     :- to find the dimension of the array\n",
    "# .shape    :- to access the shape of the matrix\n",
    "\n",
    "\n",
    "dim_0 = np.array('A')       # 0-dimensional array\n",
    "print(dim_0.ndim)           # 0\n",
    "print(dim_0.shape)          # ()        - empty set\n",
    "\n",
    "\n",
    "dim_1 = np.array(['A', 'B', 'C'])       # 1-dimensional array\n",
    "print(dim_1.ndim)                       # 1\n",
    "print(dim_1.shape)                      # (3,)      - 3 elements\n",
    "\n",
    "\n",
    "dim_2 = np.array( [ ['A','B','C'], ['G','H','I'] ] )      # 2-dimensional array\n",
    "print(dim_2.ndim)                                         # 2\n",
    "print(dim_2.shape)                                        # (2, 3)      - 2 arrays/rows, 3 elements each\n",
    "\n",
    "\n",
    "dim_3 = np.array( [\n",
    "    [ ['A','B','C'], ['D','E','F'] ],       # 1st layer\n",
    "    [ ['G','H','I'], ['J','K','L'] ],       # 2nd layer\n",
    "    [ ['M','N','O'], ['P','Q','R'] ]        # 3rd layer\n",
    "] )                                             # 3-dimensional array\n",
    "print(dim_3.ndim)                               # 3\n",
    "print(dim_3.shape)                              # (3, 2, 3) - 3 arrays, 2 rows each, 3 elements per rows\n",
    "\n",
    "# in n-dimensions where n is greater than 1,\n",
    "# each 1 dimensions must have equal number of elements inside them\n",
    "\n"
   ]
  },
  {
   "cell_type": "markdown",
   "id": "6c541dba",
   "metadata": {},
   "source": [
    "### Chain Indexing & Multidimensional Indexing\n",
    "\n",
    "- Multidimension Indexing is faster than the Chain Indexing\n"
   ]
  },
  {
   "cell_type": "code",
   "execution_count": null,
   "id": "cf171df9",
   "metadata": {},
   "outputs": [],
   "source": [
    "array = np.array( [\n",
    "    [ ['A','B','C'], ['D','E','F'], ['G','H','I'] ],\n",
    "    [ ['J','K','L'], ['M','N','O'], ['P','Q','R'] ],\n",
    "    [ ['S','T','U'], ['V','W','X'], ['Y','Z',' '] ]\n",
    "] )\n",
    "\n",
    "# Chain Indexing\n",
    "print(array[0][0][0])       # 1st layer/n-1 array, 1st row, 1st element\n",
    "print(array[1][2][1])       # Q\n",
    "\n",
    "# Multidemnsional Indexing\n",
    "print(array[0, 0, 0])       # 1st layer/n-1 array, 1st row, 1st element\n",
    "print(array[1, 2, 1])       # Q\n",
    "\n",
    "\n",
    "# Word Generate:- NUMPY\n",
    "word = array[1,1,1] + array[2,0,2] + array[1,1,0] + array[1,2,0] + array[2,2,0]\n",
    "print(word)\n"
   ]
  },
  {
   "cell_type": "markdown",
   "id": "e0b9cd8f",
   "metadata": {},
   "source": [
    "### **Slicing**\n"
   ]
  },
  {
   "cell_type": "markdown",
   "id": "85d340cc",
   "metadata": {},
   "source": [
    "- Use Subscript Operator:- []\n",
    "- array[start : end : step]\n",
    "- end index is exclusive. end-1 is counted\n",
    "\n",
    "There are two ways to slice:\n",
    "\n",
    "1. Row Wise\n",
    "2. Column Wise\n"
   ]
  },
  {
   "cell_type": "markdown",
   "id": "b67d7f00",
   "metadata": {},
   "source": [
    "##### Ways to Slice array (row-wise)\n",
    "\n",
    "- array[start]\n",
    "- array[start : end] :- Range\n",
    "- array[start : end : step]\n"
   ]
  },
  {
   "cell_type": "code",
   "execution_count": null,
   "id": "1ed343ff",
   "metadata": {},
   "outputs": [],
   "source": [
    "# *** Run This Cell ***\n",
    "\n",
    "# 2D Array\n",
    "arr = np.array( [ [1,   2,  3,  4], \n",
    "                  [5,   6,  7,  8], \n",
    "                  [9,  10, 11, 12], \n",
    "                  [13, 14, 15, 16] \n",
    "                ] )\n",
    "\n"
   ]
  },
  {
   "cell_type": "markdown",
   "id": "e01f1bdb",
   "metadata": {},
   "source": [
    "##### arr[start]\n"
   ]
  },
  {
   "cell_type": "code",
   "execution_count": null,
   "id": "b67834e4",
   "metadata": {},
   "outputs": [],
   "source": [
    "# Print the 1st row\n",
    "print(arr[0])       # [1 2 3 4]\n",
    "\n",
    "# Reverse Indexing\n",
    "print(arr[-1])      # [13 14 15 16]\n",
    "print(arr[-2])      # [ 9 10 11 12]\n",
    "\n"
   ]
  },
  {
   "cell_type": "markdown",
   "id": "97771ccf",
   "metadata": {},
   "source": [
    "##### arr[start : end] = range\n"
   ]
  },
  {
   "cell_type": "code",
   "execution_count": null,
   "id": "223bff24",
   "metadata": {},
   "outputs": [],
   "source": [
    "# Print the 1st 2 rows\n",
    "print(arr[0:2])\n",
    "\n",
    "# Empty end index       \n",
    "print(arr[1:])        # Start from 1 and, Slice to End\n",
    "\n",
    "# Select all rows\n",
    "print(arr[:])\n",
    "\n",
    "\n"
   ]
  },
  {
   "cell_type": "markdown",
   "id": "642c5ca2",
   "metadata": {},
   "source": [
    "##### arr[start : end : step]\n"
   ]
  },
  {
   "cell_type": "code",
   "execution_count": null,
   "id": "2de70e2c",
   "metadata": {},
   "outputs": [],
   "source": [
    "# Print every 2nd row\n",
    "print(arr[0:4:2])       # [[ 1  2  3  4] [ 9 10 11 12]]\n",
    "\n",
    "\n",
    "# same operation, different technique\n",
    "print(arr[::2])         \n",
    "\n",
    "\n",
    "# Select all rows\n",
    "print(arr[::])\n",
    "\n",
    "\n",
    "# Reverse Array rows\n",
    "print(arr[::-1])\n"
   ]
  },
  {
   "cell_type": "markdown",
   "id": "4b2cc0f4",
   "metadata": {},
   "source": [
    "##### Ways to Slice array column-wise\n",
    "\n",
    "- First we have to understand the basics of getting a column element\n",
    "- We need to remember to get the column we need to add a comma(,)\n"
   ]
  },
  {
   "cell_type": "code",
   "execution_count": null,
   "id": "dd7166b4",
   "metadata": {},
   "outputs": [],
   "source": [
    "# arr[row, col]\n",
    "print(arr[2, 3])    # 12\n"
   ]
  },
  {
   "cell_type": "markdown",
   "id": "1acfc81f",
   "metadata": {},
   "source": [
    "- How to Print the 1st Column\n"
   ]
  },
  {
   "cell_type": "code",
   "execution_count": null,
   "id": "6c0c9aa7",
   "metadata": {},
   "outputs": [],
   "source": [
    "# Step-1: Select all rows\n",
    "print(arr[:])\n"
   ]
  },
  {
   "cell_type": "code",
   "execution_count": null,
   "id": "7267a0a3",
   "metadata": {},
   "outputs": [],
   "source": [
    "# Step-2: Add the Column index which you want to print\n",
    "print(arr[ :, 0])\n"
   ]
  },
  {
   "cell_type": "markdown",
   "id": "2eedc799",
   "metadata": {},
   "source": [
    "- Print Columns\n"
   ]
  },
  {
   "cell_type": "code",
   "execution_count": null,
   "id": "c2a2b65f",
   "metadata": {},
   "outputs": [],
   "source": [
    "print(arr[ :, 0])       # 1st Column\n",
    "print(arr[ :, 1])       # 2nd Column\n",
    "print(arr[ :, 2])       # 3rd Column\n",
    "print(arr[ :, 3])       # 4th Column\n",
    "\n",
    "print(arr[ :, -1])      # Reverse or Last Column\n",
    "print(arr[ :, -2])      # 2nd Last Column\n"
   ]
  },
  {
   "cell_type": "markdown",
   "id": "2d08af69",
   "metadata": {},
   "source": [
    "##### Print the 1st 3 columns\n",
    "\n",
    "- 1. Select all Rows\n",
    "- 2. Remeber to add the comma\n",
    "- 3. Define the **Range** after the comma\n"
   ]
  },
  {
   "cell_type": "code",
   "execution_count": null,
   "id": "84433b0b",
   "metadata": {},
   "outputs": [],
   "source": [
    "# 1. Select all rows\n",
    "# 2. Remeber to add the comma\n",
    "# 3. Define the Range after the comma\n",
    "\n",
    "print(arr[:, 0:3])"
   ]
  },
  {
   "cell_type": "markdown",
   "id": "5b287743",
   "metadata": {},
   "source": [
    "##### Print the middle 2 columns\n"
   ]
  },
  {
   "cell_type": "code",
   "execution_count": null,
   "id": "03098247",
   "metadata": {},
   "outputs": [],
   "source": [
    "print(arr[:, 1:3])"
   ]
  },
  {
   "cell_type": "markdown",
   "id": "58865bdf",
   "metadata": {},
   "source": [
    "##### Print the last 3 columns\n"
   ]
  },
  {
   "cell_type": "code",
   "execution_count": null,
   "id": "9b823af4",
   "metadata": {},
   "outputs": [],
   "source": [
    "# print the last 3 columns\n",
    "print(arr[:, 1:])\n"
   ]
  },
  {
   "cell_type": "markdown",
   "id": "8cd5bf51",
   "metadata": {},
   "source": [
    "##### Ways to print the whole array\n",
    "\n",
    "1. ```\n",
    "   print(arr[:])\n",
    "   ```\n",
    "2. ```\n",
    "   print(arr[:, :])\n",
    "   ```\n"
   ]
  },
  {
   "cell_type": "markdown",
   "id": "e6beb218",
   "metadata": {},
   "source": [
    "##### Column Steps\n"
   ]
  },
  {
   "cell_type": "code",
   "execution_count": null,
   "id": "b82dce52",
   "metadata": {},
   "outputs": [],
   "source": [
    "# Print every 2 columns\n",
    "print(arr[:, ::2])\n"
   ]
  },
  {
   "cell_type": "code",
   "execution_count": null,
   "id": "3ba46267",
   "metadata": {},
   "outputs": [],
   "source": [
    "# Print every 2 columns but starts from index-1, or Print all the even indexed columns\n",
    "print(arr[:, 1::2])\n"
   ]
  },
  {
   "cell_type": "code",
   "execution_count": null,
   "id": "91f03869",
   "metadata": {},
   "outputs": [],
   "source": [
    "# Print columns in reverse order\n",
    "print(arr[:, ::-1])"
   ]
  },
  {
   "cell_type": "markdown",
   "id": "71243688",
   "metadata": {},
   "source": [
    "### Challenge:- Print all elements in reverse order\n"
   ]
  },
  {
   "cell_type": "code",
   "execution_count": null,
   "id": "10b46f9c",
   "metadata": {},
   "outputs": [],
   "source": [
    "# Reverseing Columns\n",
    "print(arr[:, ::-1])"
   ]
  },
  {
   "cell_type": "code",
   "execution_count": null,
   "id": "e86e1a38",
   "metadata": {},
   "outputs": [],
   "source": [
    "# Reversing Rows\n",
    "print(arr[::-1])"
   ]
  },
  {
   "cell_type": "code",
   "execution_count": null,
   "id": "58b5f512",
   "metadata": {},
   "outputs": [],
   "source": [
    "# Reversing Rows then Columns\n",
    "print(arr[::-1, ::-1])"
   ]
  },
  {
   "cell_type": "markdown",
   "id": "5817dbb9",
   "metadata": {},
   "source": [
    "### Challenge:- Print 1st 2 rows but only for the 1st 2 columns\n"
   ]
  },
  {
   "cell_type": "code",
   "execution_count": null,
   "id": "82d2e5a2",
   "metadata": {},
   "outputs": [],
   "source": [
    "# 1. Select the first two rows      0:2\n",
    "# 2. Add comma\n",
    "# 3. Select the first two rows      0:2   \n",
    "print(arr[:2, :2])"
   ]
  },
  {
   "cell_type": "markdown",
   "id": "42cf40e7",
   "metadata": {},
   "source": [
    "### Challenge:- Print the middle two rows but for middle 2 columns\n"
   ]
  },
  {
   "cell_type": "code",
   "execution_count": null,
   "id": "dfbcc31a",
   "metadata": {},
   "outputs": [],
   "source": [
    "print(arr[1:3, 1:3])"
   ]
  },
  {
   "cell_type": "markdown",
   "id": "884fb070",
   "metadata": {},
   "source": [
    "### Challenge:- Print the last two rows but only for the last 3 columns\n"
   ]
  },
  {
   "cell_type": "code",
   "execution_count": null,
   "id": "10b24dcf",
   "metadata": {},
   "outputs": [],
   "source": [
    "print(arr[2: , 1:])"
   ]
  },
  {
   "cell_type": "markdown",
   "id": "4877899c",
   "metadata": {},
   "source": [
    "### Arithmetic\n"
   ]
  },
  {
   "cell_type": "markdown",
   "id": "b9946ab2",
   "metadata": {},
   "source": [
    "- Scalar Arithmetic\n"
   ]
  },
  {
   "cell_type": "code",
   "execution_count": null,
   "id": "6c7f4a7c",
   "metadata": {},
   "outputs": [],
   "source": [
    "num = np.array([3, 8, 2])\n",
    "\n",
    "print(num + 2)\n",
    "print(num - 5)\n",
    "print(num * 3)\n",
    "print(num / 2)\n",
    "print(num ** 2)\n"
   ]
  },
  {
   "cell_type": "markdown",
   "id": "6a5b595f",
   "metadata": {},
   "source": [
    "- Vectorized Math Finctions\n"
   ]
  },
  {
   "cell_type": "code",
   "execution_count": null,
   "id": "08d4d45c",
   "metadata": {},
   "outputs": [],
   "source": [
    "num = np.array([8.75, 10.31, 2.76])\n",
    "\n",
    "print(np.sqrt(num))\n",
    "print(np.round(num))\n",
    "print(np.floor(num))\n",
    "print(np.ceil(num))\n",
    "\n"
   ]
  },
  {
   "cell_type": "code",
   "execution_count": null,
   "id": "bffd70a9",
   "metadata": {},
   "outputs": [],
   "source": [
    "print(np.pi)"
   ]
  },
  {
   "cell_type": "markdown",
   "id": "4ed1ebeb",
   "metadata": {},
   "source": [
    "- Find the Area\n"
   ]
  },
  {
   "cell_type": "code",
   "execution_count": null,
   "id": "ee015bb6",
   "metadata": {},
   "outputs": [],
   "source": [
    "rad = np.array([1, 2, 3])\n",
    "\n",
    "print(np.pi * rad ** 2)         # A = pi * r^2"
   ]
  },
  {
   "cell_type": "markdown",
   "id": "f3f6442f",
   "metadata": {},
   "source": [
    "- Element Wise Arithmetic\n"
   ]
  },
  {
   "cell_type": "code",
   "execution_count": null,
   "id": "9ad73b8a",
   "metadata": {},
   "outputs": [],
   "source": [
    "arr1 = np.array([1, 2, 3])\n",
    "arr2 = np.array([4, 5, 6])\n",
    "\n",
    "print(arr1 + arr2)\n",
    "print(arr1 - arr2)\n",
    "print(arr1 * arr2)\n",
    "print(arr1 / arr2)\n",
    "print(arr1 ** arr2)"
   ]
  },
  {
   "cell_type": "markdown",
   "id": "453c0a8b",
   "metadata": {},
   "source": [
    "- Comparison Arithmetic\n"
   ]
  },
  {
   "cell_type": "code",
   "execution_count": null,
   "id": "5b2dc835",
   "metadata": {},
   "outputs": [],
   "source": [
    "scores = np.array([91, 77, 84, 53, 100, 88])\n",
    "\n",
    "print(scores == 100)\n",
    "print(scores >= 80)\n",
    "print(scores < 80)"
   ]
  },
  {
   "cell_type": "code",
   "execution_count": null,
   "id": "c8e18942",
   "metadata": {},
   "outputs": [],
   "source": [
    "# Failed Students get 0\n",
    "\n",
    "scores[scores < 55] = 0\n",
    "scores[scores >= 88] = 90\n",
    "\n",
    "print(scores)"
   ]
  },
  {
   "cell_type": "markdown",
   "id": "d460734e",
   "metadata": {},
   "source": [
    "### Broadcasting\n"
   ]
  },
  {
   "cell_type": "markdown",
   "id": "bf45bc9b",
   "metadata": {},
   "source": [
    "Broadcasting in NumPy allows us to perform arithmetic operations on arrays of different shapes without reshaping them. It automatically adjusts the smaller array to match the larger array's shape by replicating its values along the necessary dimensions. Virtuallu converting the smaller array to readjust its shape to match the bigger array.\n",
    "\n",
    "This makes element-wise operations more efficient by reducing memory usage and eliminating the need for loops.\n",
    "\n",
    "If,\n",
    "\n",
    "- a [4x3] matrix\n",
    "- b [1x3] matrix\n",
    "- Result = [4x3] matrix, by streching b from [1x3] to [4x3] matrix.\n",
    "\n",
    "Conditions:-\n",
    "\n",
    "1. Dimensions has to be same. (can't be 4x1 and 3x1)\n",
    "2. Or, dimension of one of the matrix has to be 1. (eg 4x2 and 4x1)\n",
    "\n",
    "In the above example,\n",
    "\n",
    "- row of a=4, b=1; one of them has 1. 2nd Condition satisfied.\n",
    "- col of a=3, b=3; both have same dimensions. 1st Condition satisfied.\n",
    "  Braoadcasting Possible.\n"
   ]
  },
  {
   "cell_type": "markdown",
   "id": "a8774838",
   "metadata": {},
   "source": [
    "##### Checking Dimensions\n"
   ]
  },
  {
   "cell_type": "code",
   "execution_count": null,
   "id": "7a274b31",
   "metadata": {},
   "outputs": [],
   "source": [
    "arr1 = np.array([ [1, 2, 3, 4] ])   # 2D Array or 1x4\n",
    "arr2 = np.array( [\n",
    "    [1],\n",
    "    [2],\n",
    "    [3],\n",
    "    [4]\n",
    "] )\n",
    "\n",
    "print(arr1.shape)   # 1x4\n",
    "print(arr2.shape)   # 4x1\n",
    "\n",
    "# Check Condition:-\n",
    "#       arr1 : row=1, col=4\n",
    "#       arr2 : row=4, col=1\n",
    "#       arr1.row != arr2.row, however one of them is 1. Can Be Broadcasted\n",
    "#       arr1.col != arr2.col, however one of them is 1. Can Be Broadcasted\n",
    "\n"
   ]
  },
  {
   "cell_type": "code",
   "execution_count": null,
   "id": "a73e64bc",
   "metadata": {},
   "outputs": [],
   "source": [
    "# Broadcast\n",
    "print(arr1 * arr2)      # 1x4 * 4x1\n"
   ]
  },
  {
   "cell_type": "code",
   "execution_count": null,
   "id": "230bb25c",
   "metadata": {},
   "outputs": [],
   "source": [
    "arr1 = np.array([ [1, 2, 3, 4],\n",
    "                  [2, 4, 6, 8] ])\n",
    "arr2 = np.array( [\n",
    "    [1],\n",
    "    [2],\n",
    "    [3],\n",
    "    [4]\n",
    "] )\n",
    "\n",
    "print(arr1.shape)   # 2x4\n",
    "print(arr2.shape)   # 4x1\n",
    "\n",
    "# Not Compatible for Broadcasting, \n",
    "# because row of arr1 = 2, arr2 = 4. Doesn't match."
   ]
  },
  {
   "cell_type": "code",
   "execution_count": null,
   "id": "b112fdc6",
   "metadata": {},
   "outputs": [],
   "source": [
    "print(arr1 * arr2)      # It will show an Error"
   ]
  },
  {
   "cell_type": "markdown",
   "id": "9c195860",
   "metadata": {},
   "source": [
    "##### Example of a broadcast\n"
   ]
  },
  {
   "cell_type": "code",
   "execution_count": null,
   "id": "46f74c30",
   "metadata": {},
   "outputs": [],
   "source": [
    "# 3x2 and 3x1\n",
    "\n",
    "arr1 = np.array([\n",
    "    [1, 2],\n",
    "    [3, 4],\n",
    "    [5, 6]\n",
    "])\n",
    "\n",
    "arr2 = np.array([\n",
    "    [7],\n",
    "    [8],\n",
    "    [9]\n",
    "])\n",
    "\n",
    "print(arr1.shape)   # 3x2\n",
    "print(arr2.shape)   # 3x1\n",
    "\n",
    "print(arr1 + arr2)"
   ]
  },
  {
   "cell_type": "markdown",
   "id": "fa50c6be",
   "metadata": {},
   "source": [
    "Broadcast possible or not:-\n",
    "\n",
    "- 3x1, 3x2 --> Yes\n",
    "- 5x3, 5x1 --> Yes\n",
    "- 1x6, 5x6 --> Yes\n",
    "- 2x6, 5x6 --> No\n",
    "- 3x5, 5x4 --> No\n",
    "- 3x5, 5x3 --> No\n",
    "- 1x9, 9x1 --> Yes\n"
   ]
  },
  {
   "cell_type": "markdown",
   "id": "896749f3",
   "metadata": {},
   "source": [
    "##### 10x1 and 1x10 Broadcasting\n"
   ]
  },
  {
   "cell_type": "code",
   "execution_count": null,
   "id": "ed2f646a",
   "metadata": {},
   "outputs": [],
   "source": [
    "a = np.array([ [1], [2], [3], [4], [5], [6], [7], [8], [9], [10] ])\n",
    "b = np.array([ [1, 2, 3, 4, 5, 6, 7, 8, 9, 10] ])\n",
    "\n",
    "print(a.shape)\n",
    "print(b.shape)\n"
   ]
  },
  {
   "cell_type": "code",
   "execution_count": null,
   "id": "113d1282",
   "metadata": {},
   "outputs": [],
   "source": [
    "print(a + b)"
   ]
  },
  {
   "cell_type": "code",
   "execution_count": null,
   "id": "807933ce",
   "metadata": {},
   "outputs": [],
   "source": [
    "print(a - b)"
   ]
  },
  {
   "cell_type": "code",
   "execution_count": null,
   "id": "e2e5c24e",
   "metadata": {},
   "outputs": [],
   "source": [
    "print(a * b)"
   ]
  },
  {
   "cell_type": "code",
   "execution_count": null,
   "id": "d9272cd1",
   "metadata": {},
   "outputs": [],
   "source": [
    "print(a / b)"
   ]
  },
  {
   "cell_type": "markdown",
   "id": "42e7399d",
   "metadata": {},
   "source": [
    "### Aggregate Functions\n"
   ]
  },
  {
   "cell_type": "markdown",
   "id": "2b9d256f",
   "metadata": {},
   "source": [
    "- sum\n",
    "- sum + axis\n",
    "- max\n",
    "- min\n",
    "- argmax\n",
    "- argmin\n",
    "- mean\n",
    "- std\n",
    "- var\n"
   ]
  },
  {
   "cell_type": "code",
   "execution_count": 31,
   "id": "a7442f31",
   "metadata": {},
   "outputs": [],
   "source": [
    "# *** Run This Cell ***\n",
    "\n",
    "# Taking a test array\n",
    "test = np.array([\n",
    "    [1, 2, 3, 4, 5],\n",
    "    [6, 7, 8, 9, 10]\n",
    "])"
   ]
  },
  {
   "cell_type": "markdown",
   "id": "4312e461",
   "metadata": {},
   "source": [
    "##### sum function\n"
   ]
  },
  {
   "cell_type": "code",
   "execution_count": null,
   "id": "e48eae2a",
   "metadata": {},
   "outputs": [],
   "source": [
    "# Adds all the elements and return the summation value\n",
    "print(np.sum(test))"
   ]
  },
  {
   "cell_type": "markdown",
   "id": "542312d3",
   "metadata": {},
   "source": [
    "##### sum + axis function\n"
   ]
  },
  {
   "cell_type": "code",
   "execution_count": null,
   "id": "c8fc2cd6",
   "metadata": {},
   "outputs": [],
   "source": [
    "print(np.sum(test, axis=0))     # Adding all the columns\n",
    "print(np.sum(test, axis=1))     # Adding all the rows\n"
   ]
  },
  {
   "cell_type": "markdown",
   "id": "6030d84e",
   "metadata": {},
   "source": [
    "##### max function\n"
   ]
  },
  {
   "cell_type": "code",
   "execution_count": null,
   "id": "949b2163",
   "metadata": {},
   "outputs": [],
   "source": [
    "print(np.max(test))"
   ]
  },
  {
   "cell_type": "markdown",
   "id": "8129172f",
   "metadata": {},
   "source": [
    "##### argmax function\n"
   ]
  },
  {
   "cell_type": "code",
   "execution_count": null,
   "id": "f1aa4fca",
   "metadata": {},
   "outputs": [],
   "source": [
    "print(np.argmax(test))\n",
    "# Tells you the possition of the max value"
   ]
  },
  {
   "cell_type": "markdown",
   "id": "e94e4da6",
   "metadata": {},
   "source": [
    "##### min function\n"
   ]
  },
  {
   "cell_type": "code",
   "execution_count": null,
   "id": "b0a77278",
   "metadata": {},
   "outputs": [],
   "source": [
    "print(np.min(test))"
   ]
  },
  {
   "cell_type": "markdown",
   "id": "e6b4c212",
   "metadata": {},
   "source": [
    "##### argmin function\n"
   ]
  },
  {
   "cell_type": "code",
   "execution_count": null,
   "id": "09d57bf6",
   "metadata": {},
   "outputs": [],
   "source": [
    "print(np.argmax(test))\n",
    "# Tells you the possition of the min value"
   ]
  },
  {
   "cell_type": "markdown",
   "id": "edd9c7c9",
   "metadata": {},
   "source": [
    "##### mean function\n"
   ]
  },
  {
   "cell_type": "code",
   "execution_count": null,
   "id": "f18b2eec",
   "metadata": {},
   "outputs": [],
   "source": [
    "print(np.mean(test))"
   ]
  },
  {
   "cell_type": "markdown",
   "id": "f45e616a",
   "metadata": {},
   "source": [
    "##### std function - Standard of Deviation\n"
   ]
  },
  {
   "cell_type": "code",
   "execution_count": null,
   "id": "441d67db",
   "metadata": {},
   "outputs": [],
   "source": [
    "print(np.std(test))"
   ]
  },
  {
   "cell_type": "markdown",
   "id": "71fdef39",
   "metadata": {},
   "source": [
    "##### var function - Variance = Square of std\n"
   ]
  },
  {
   "cell_type": "code",
   "execution_count": null,
   "id": "68b1b126",
   "metadata": {},
   "outputs": [],
   "source": [
    "print(np.var(test))"
   ]
  }
 ],
 "metadata": {
  "kernelspec": {
   "display_name": "base",
   "language": "python",
   "name": "python3"
  },
  "language_info": {
   "codemirror_mode": {
    "name": "ipython",
    "version": 3
   },
   "file_extension": ".py",
   "mimetype": "text/x-python",
   "name": "python",
   "nbconvert_exporter": "python",
   "pygments_lexer": "ipython3",
   "version": "3.12.7"
  }
 },
 "nbformat": 4,
 "nbformat_minor": 5
}
